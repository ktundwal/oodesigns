{
 "cells": [
  {
   "cell_type": "code",
   "execution_count": 1,
   "metadata": {
    "collapsed": true,
    "pycharm": {
     "is_executing": false
    }
   },
   "outputs": [
    {
     "name": "stdout",
     "text": [
      "available slot = 300 regular slots, 30 carpool slots, 15 handicap slots,  \nCan park at regular spot? True\nTicket: Car registration number: James Bond. Color: Red was parked at Spot distance from gate: 1. Type: SpotType.regular, Description=0.0.carpool.32 starting time.struct_time(tm_year=2019, tm_mon=10, tm_mday=2, tm_hour=5, tm_min=56, tm_sec=51, tm_wday=2, tm_yday=275, tm_isdst=0)\nFare: 30.0 for Ticket: Car registration number: James Bond. Color: Red was parked at Spot distance from gate: 1. Type: SpotType.regular, Description=0.0.carpool.32 starting time.struct_time(tm_year=2019, tm_mon=10, tm_mday=2, tm_hour=5, tm_min=56, tm_sec=51, tm_wday=2, tm_yday=275, tm_isdst=0)\n"
     ],
     "output_type": "stream"
    }
   ],
   "source": [
    "from parkinglot.src.parking import *\n",
    "\n",
    "lot = Lot.create_lot()\n",
    "print(f\"Can park at regular spot? {lot.can_park(SpotType.regular)}\")\n",
    "ticket = lot.park(SpotType.regular, Car(\"James Bond\", \"Red\"))\n",
    "print(ticket)\n",
    "fare = lot.exit(ticket)\n",
    "print(fare)"
   ]
  }
 ],
 "metadata": {
  "kernelspec": {
   "display_name": "Python 3",
   "language": "python",
   "name": "python3"
  },
  "language_info": {
   "codemirror_mode": {
    "name": "ipython",
    "version": 2
   },
   "file_extension": ".py",
   "mimetype": "text/x-python",
   "name": "python",
   "nbconvert_exporter": "python",
   "pygments_lexer": "ipython2",
   "version": "2.7.6"
  },
  "pycharm": {
   "stem_cell": {
    "cell_type": "raw",
    "source": [],
    "metadata": {
     "collapsed": false
    }
   }
  }
 },
 "nbformat": 4,
 "nbformat_minor": 0
}